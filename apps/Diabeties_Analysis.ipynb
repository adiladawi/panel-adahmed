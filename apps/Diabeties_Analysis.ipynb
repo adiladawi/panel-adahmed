{
 "cells": [
  {
   "cell_type": "code",
   "execution_count": null,
   "id": "4291ae9c-e9dc-42c3-a417-3cbe2efb148c",
   "metadata": {
    "slideshow": {
     "slide_type": "skip"
    },
    "tags": []
   },
   "outputs": [],
   "source": [
    "import numpy as np\n",
    "import pandas as pd\n",
    "import matplotlib.pyplot as plt\n",
    "import seaborn as sns\n",
    "import hvplot.pandas\n",
    "pd.options.plotting.backend = 'holoviews'\n",
    "from tqdm.notebook import tqdm_notebook\n",
    "from sklearn.utils import all_estimators\n",
    "from sklearn.preprocessing import MinMaxScaler, OrdinalEncoder\n",
    "from sklearn.ensemble import RandomForestClassifier, ExtraTreesRegressor, StackingClassifier, VotingClassifier\n",
    "from sklearn.model_selection import RepeatedStratifiedKFold, StratifiedShuffleSplit, cross_val_score, GridSearchCV, cross_val_predict\n",
    "from sklearn.tree import DecisionTreeClassifier\n",
    "from sklearn.linear_model import LogisticRegression\n",
    "from sklearn.svm import SVC\n",
    "from sklearn.utils import all_estimators\n",
    "from sklearn.neighbors import KNeighborsClassifier\n",
    "from sklearn.pipeline import Pipeline\n",
    "from sklearn.metrics import accuracy_score\n",
    "from sklearn.metrics import confusion_matrix\n",
    "import warnings\n",
    "import os\n",
    "import sys\n",
    "if not sys.warnoptions:\n",
    "    warnings.simplefilter(\"ignore\")\n",
    "    os.environ[\"PYTHONWARNINGS\"] = \"ignore\"\n",
    "import panel as pn\n",
    "import io\n",
    "import holoviews as hv\n",
    "from holoviews import opts\n",
    "from bokeh.io import output_notebook\n",
    "import pickle\n",
    "from io import BytesIO"
   ]
  },
  {
   "cell_type": "code",
   "execution_count": null,
   "id": "eaf22e04-2649-42a9-91e2-14a73863611d",
   "metadata": {
    "id": "NWO91BW4F9kT",
    "slideshow": {
     "slide_type": "skip"
    },
    "tags": [
     "\"hide-input\""
    ]
   },
   "outputs": [],
   "source": [
    "dataset = 'data/diabetes.csv'"
   ]
  },
  {
   "cell_type": "code",
   "execution_count": null,
   "id": "14a0dd31-5383-46d6-bc39-cf4034b77f81",
   "metadata": {
    "id": "xIJY1b0-G8i5",
    "slideshow": {
     "slide_type": "skip"
    },
    "tags": [
     "\"hide-input\""
    ]
   },
   "outputs": [],
   "source": [
    "df = pd.read_csv(dataset)"
   ]
  },
  {
   "cell_type": "code",
   "execution_count": null,
   "id": "81638709-f9d2-41a1-baf8-5922616c78c6",
   "metadata": {
    "slideshow": {
     "slide_type": "skip"
    },
    "tags": []
   },
   "outputs": [],
   "source": [
    "df_cm = pd.read_csv('data/confusion_matrix.csv')"
   ]
  },
  {
   "cell_type": "markdown",
   "id": "83c5e3d9-ac8c-4a1e-bf8e-deeb7b2721ed",
   "metadata": {
    "slideshow": {
     "slide_type": "slide"
    },
    "tags": []
   },
   "source": [
    "# Diabetic: Causes and Diganosis. #\n",
    "\n",
    "**Created by: Adel Ahmed**\n",
    "\n",
    "**Jan 2022**"
   ]
  },
  {
   "cell_type": "markdown",
   "id": "f2597c05-c993-4944-afec-574329269623",
   "metadata": {
    "slideshow": {
     "slide_type": "slide"
    },
    "tags": []
   },
   "source": [
    "### OUTLINE ###\n",
    "1. Executive Summary\n",
    "2. Introduction\n",
    "3. Methodology\n",
    "4. Results\n",
    "    - Visualization – Charts\n",
    "    - Dashboard\n",
    "5. Discussion\n",
    "6. Findings & Implications\n",
    "7. Conclusion\n",
    "8. Appendix"
   ]
  },
  {
   "cell_type": "markdown",
   "id": "66075383-d291-4b5b-88b5-f9497360baa6",
   "metadata": {
    "slideshow": {
     "slide_type": "slide"
    },
    "tags": []
   },
   "source": [
    "##### Section 1 #####\n",
    "\n",
    "### EXECUTIVE SUMMARY ###\n",
    "- Identify insights and factors for causing Diabeties for patients\n",
    "- Exploring the Ability to detect Diabeties in patients with Machine Learning"
   ]
  },
  {
   "cell_type": "markdown",
   "id": "d0e70648-beaa-42d4-9027-6267b9a7f749",
   "metadata": {
    "slideshow": {
     "slide_type": "slide"
    },
    "tags": []
   },
   "source": [
    "##### Section 2 #####\n",
    "\n",
    "### INTRODUCTION ###\n",
    "The report is intended for Bangkok Hospital Admnistration with the goal of identifying the factors that cause Diabeties for the patients and presenting an automated method of detecting Diabites in Patients in order to help the doctors with the diagnosis in a correct and fast way\n",
    "\n",
    "The informaton of the patients consists of several medical predictor variables and one target variable, Outcome. Predictor variables includes the number of pregnancies the patient has had, their BMI, insulin level, age, and so on.It has a total of 768 cases and 9 variables\n",
    "\n",
    "| No. | Column | Description| Data Type | Category| Type\n",
    "| :-- | :-- | :-- | :-- | :-- | :-- |\n",
    "|1 | Pregnancies | Number of times pregnant | Int | Discrete | Variable |\n",
    "|2 | Glucose | Plasma glucose concentration a 2 hours in an oral glucose tolerance test | Int | Discrete | Variable |\n",
    "|3 | Blood pressure | Diastolic blood pressure (mm Hg) | Int | Discrete | Variable |\n",
    "|4 |Skin thickness | Triceps skin fold thickness (mm) | Int | Discrete | Variable |\n",
    "|5 | Insulin | 2-Hour serum insulin (mu U/ml) | Int | Discrete | Variable |\n",
    "|6 | BMI | Body mass index (weight in kg/(height in m)^2) | Float | Continuous | Variable |\n",
    "|7 | DiabetesPedigreeFunction | Diabetes pedigree function| Float | Continuous | Variable |\n",
    "|8 | Age | Age (years) | Int | Discrete | Variable |\n",
    "|9 | Outcome | Class variable (0 or 1)| Int | Discrete | Target |"
   ]
  },
  {
   "cell_type": "markdown",
   "id": "495077f1-c117-4e19-823a-d0ca0e6060c3",
   "metadata": {
    "slideshow": {
     "slide_type": "slide"
    },
    "tags": []
   },
   "source": [
    "##### Section 3 #####\n",
    "\n",
    "### METHODOLOGY ###\n",
    "- Collecting Data from in-house database\n",
    "- Examining all data to conduct the analysis\n",
    "- Exploring the data through statistics and visualization\n",
    "- Listing the fidings and insights from the analysis\n",
    "- Modeling the cases with Machine Learning to find the best predictor\n",
    "- Recommendations for future improvements\n"
   ]
  },
  {
   "cell_type": "markdown",
   "id": "db2fc314-4cf1-4f1a-921e-635e536311e3",
   "metadata": {
    "slideshow": {
     "slide_type": "slide"
    },
    "tags": []
   },
   "source": [
    "##### Section 4 #####\n",
    "\n",
    "### RESULTS ###\n",
    "\n",
    "* Exploratory Data Analysis Results\n",
    "* Predictive Analysis Results\n"
   ]
  },
  {
   "cell_type": "code",
   "execution_count": null,
   "id": "a2faafad-a42a-48b1-8064-e119f750af08",
   "metadata": {
    "slideshow": {
     "slide_type": "notes"
    },
    "tags": [
     "hide_output",
     "\"hide-input\""
    ]
   },
   "outputs": [],
   "source": [
    "hv.extension(\"bokeh\")"
   ]
  },
  {
   "cell_type": "markdown",
   "id": "ddffaa98-a5b9-4e8f-afe8-8b9127fcd1db",
   "metadata": {
    "slideshow": {
     "slide_type": "subslide"
    },
    "tags": []
   },
   "source": [
    "#### Exploratory Data Analysis Results ####"
   ]
  },
  {
   "cell_type": "code",
   "execution_count": null,
   "id": "81f64435-b40c-4d38-bf6c-be2fe30283b2",
   "metadata": {
    "slideshow": {
     "slide_type": "fragment"
    },
    "tags": [
     "\"hide-input\""
    ]
   },
   "outputs": [],
   "source": [
    "df['Age'].hist(bins=5,title='Patients by Age Groups')"
   ]
  },
  {
   "cell_type": "code",
   "execution_count": null,
   "id": "666ab89f-ffd8-42af-ad36-561f6ec42649",
   "metadata": {
    "slideshow": {
     "slide_type": "fragment"
    },
    "tags": [
     "\"hide-input\""
    ]
   },
   "outputs": [],
   "source": [
    "df.hvplot(x='Age', y='BMI', kind='scatter',title='BMI vs. Age')"
   ]
  },
  {
   "cell_type": "code",
   "execution_count": null,
   "id": "50fb2bb6-b7a7-4459-967a-4d3065fcbf08",
   "metadata": {
    "slideshow": {
     "slide_type": "notes"
    },
    "tags": [
     "\"hide-input\"",
     "hide_output"
    ]
   },
   "outputs": [],
   "source": [
    "hv.extension('matplotlib')"
   ]
  },
  {
   "cell_type": "markdown",
   "id": "ec5488da-bc90-4434-ac88-fa83e0155f66",
   "metadata": {
    "slideshow": {
     "slide_type": "subslide"
    },
    "tags": []
   },
   "source": [
    "#### Predictive Analysis Results ####"
   ]
  },
  {
   "cell_type": "code",
   "execution_count": null,
   "id": "a72277de-a970-4abe-8050-df2597b2a059",
   "metadata": {
    "slideshow": {
     "slide_type": "fragment"
    },
    "tags": [
     "\"hide-input\""
    ]
   },
   "outputs": [],
   "source": [
    "hv.HeatMap((df_cm.columns, df_cm.index, df_cm.values)).opts(invert_xaxis=True, show_values=True)"
   ]
  },
  {
   "cell_type": "markdown",
   "id": "11f1a58e-a43c-423f-8487-27cb6878fd49",
   "metadata": {
    "slideshow": {
     "slide_type": "fragment"
    },
    "tags": []
   },
   "source": [
    "The selected model are not accurate enough to deploy into production"
   ]
  },
  {
   "cell_type": "markdown",
   "id": "1595324b-92f8-416f-ab1d-047ed17fc2c6",
   "metadata": {
    "slideshow": {
     "slide_type": "slide"
    },
    "tags": []
   },
   "source": [
    "##### Section 5 #####\n",
    "\n",
    "### DISCUSSION ###\n",
    "\n",
    "There is a case with 17 pregnancies need to be further investigated, as it might be impossible to achieve that number"
   ]
  },
  {
   "cell_type": "markdown",
   "id": "64e3a843-7108-4fd3-8b41-a4aebfa2b683",
   "metadata": {
    "slideshow": {
     "slide_type": "slide"
    },
    "tags": []
   },
   "source": [
    "##### Section 6 #####\n",
    "\n",
    "### Findings & Implications ###\n",
    "1. Glucose level in the blood is main factor in deciding the patient have diabities, healthy diet is needed to avoid this disease\n",
    "2. Majority of the Patients are less than 34 years of Age, while Diabeties mainly affect the eldry population, so this sample does not reflect the reality\n",
    "3. the selected classifier do not perform well according to accuracy score, the use of Deep Learning is suggested to yield better results"
   ]
  },
  {
   "cell_type": "markdown",
   "id": "be0f1e12-1e83-4f9b-84e3-5a720823a458",
   "metadata": {
    "slideshow": {
     "slide_type": "slide"
    },
    "tags": []
   },
   "source": [
    "##### Section 7 #####\n",
    "\n",
    "### CONCLUSION ###\n",
    "\n",
    "The data is imbalanced when it comes to age group and contains some anamolies, thus is not reflection of the real situation, and more balanced data need to be acquired and this analyis should be conducted again"
   ]
  },
  {
   "cell_type": "markdown",
   "id": "535d7bf8-eb77-4168-bee8-f8073903cecb",
   "metadata": {
    "slideshow": {
     "slide_type": "slide"
    },
    "tags": []
   },
   "source": [
    "##### Section 8 #####\n",
    "\n",
    "### APPENDIX ###\n",
    "\n",
    "No additional resources"
   ]
  },
  {
   "cell_type": "markdown",
   "id": "61d404bb-c5bb-42e6-b02f-1abe0ad29afa",
   "metadata": {
    "slideshow": {
     "slide_type": "slide"
    },
    "tags": []
   },
   "source": [
    "# Thank you #\n",
    "Looking to see you agian"
   ]
  },
  {
   "cell_type": "code",
   "execution_count": null,
   "id": "4a5ae9a5-9498-4228-b6ef-36b948551c47",
   "metadata": {
    "slideshow": {
     "slide_type": "skip"
    },
    "tags": []
   },
   "outputs": [],
   "source": [
    "hv.extension(\"bokeh\")\n",
    "tech_report = pn.Column()"
   ]
  },
  {
   "cell_type": "code",
   "execution_count": null,
   "id": "9bc86849-83f5-4810-979d-bb1b818b9272",
   "metadata": {
    "slideshow": {
     "slide_type": "skip"
    },
    "tags": []
   },
   "outputs": [],
   "source": [
    "tech_report.append(pn.Row(pn.pane.Markdown(\"\"\"\n",
    "**Main Objective of the Analysis.**\n",
    "\"\"\",sizing_mode='scale_width')))"
   ]
  },
  {
   "cell_type": "code",
   "execution_count": null,
   "id": "9fd6e0a3-928f-40df-a36b-35836480d14f",
   "metadata": {
    "slideshow": {
     "slide_type": "skip"
    },
    "tags": []
   },
   "outputs": [],
   "source": [
    "tech_report.append(pn.Row(pn.pane.Markdown(\"Train classification models on the dataset and choosing the best model based on accuracy.\",sizing_mode='scale_width')))"
   ]
  },
  {
   "cell_type": "code",
   "execution_count": null,
   "id": "7e4d0f65-861d-46bd-83ca-ea5cabed7f9d",
   "metadata": {
    "slideshow": {
     "slide_type": "skip"
    },
    "tags": []
   },
   "outputs": [],
   "source": [
    "tech_report.append(pn.Row(pn.pane.Markdown(\"**Brief Description of the Dataset.**\",sizing_mode='scale_width')))"
   ]
  },
  {
   "cell_type": "code",
   "execution_count": null,
   "id": "3ee22f8e-bdd1-46cc-a4e6-83e9ac112ad4",
   "metadata": {
    "slideshow": {
     "slide_type": "skip"
    },
    "tags": []
   },
   "outputs": [],
   "source": [
    "tech_report.append(pn.Row(pn.pane.Markdown(\"\"\"\n",
    "The objective of the dataset is to diagnostically predict whether or not a patient has diabetes, \n",
    "The datasets consists of several medical predictor variables and one target variable, Outcome. Predictor variables includes the number of pregnancies the patient has had, their BMI, insulin level, age, and so on.It has a total of 768 rows and 9 columns\n",
    "\n",
    "| No. | Column | Description| Data Type | Category| Type\n",
    "| :-- | :-- | :-- | :-- | :-- | :-- |\n",
    "|1 | Pregnancies | Number of times pregnant | Int | Discrete | Variable |\n",
    "|2 | Glucose | Plasma glucose concentration a 2 hours in an oral glucose tolerance test | Int | Discrete | Variable |\n",
    "|3 | Blood pressure | Diastolic blood pressure (mm Hg) | Int | Discrete | Variable |\n",
    "|4 |Skin thickness | Triceps skin fold thickness (mm) | Int | Discrete | Variable |\n",
    "|5 | Insulin | 2-Hour serum insulin (mu U/ml) | Int | Discrete | Variable |\n",
    "|6 | BMI | Body mass index (weight in kg/(height in m)^2) | Float | Continuous | Variable |\n",
    "|7 | DiabetesPedigreeFunction | Diabetes pedigree function| Float | Continuous | Variable |\n",
    "|8 | Age | Age (years) | Int | Discrete | Variable |\n",
    "|9 | Outcome | Class variable (0 or 1)| Int | Discrete | Target |\n",
    "\"\"\",sizing_mode='scale_width')))"
   ]
  },
  {
   "cell_type": "code",
   "execution_count": null,
   "id": "23485d57-390a-47b8-aacb-afa9287e52c3",
   "metadata": {
    "slideshow": {
     "slide_type": "skip"
    },
    "tags": []
   },
   "outputs": [],
   "source": [
    "tech_report.append(pn.Row(pn.pane.Markdown(\"**Plan for Data Exploration, Feature Engineering and Modelling**\",sizing_mode='scale_width')))"
   ]
  },
  {
   "cell_type": "code",
   "execution_count": null,
   "id": "682ab27c-d23f-449a-b093-a47e94bc671d",
   "metadata": {
    "slideshow": {
     "slide_type": "skip"
    },
    "tags": []
   },
   "outputs": [],
   "source": [
    "tech_report.append(pn.Row(pn.pane.Markdown(\"\"\"\n",
    "1. Packages to be installed\n",
    "2. Load the libraries\n",
    "3. Load the dataset\n",
    "4. General information about the dataset\n",
    "5. Exploratory Data Analysis (EDA)\n",
    "6. Modeling\n",
    "7. Recommendations\n",
    "\"\"\"\n",
    ",sizing_mode='scale_width')))"
   ]
  },
  {
   "cell_type": "code",
   "execution_count": null,
   "id": "2a9672e8-d4da-4c2d-bb99-fc0da099650a",
   "metadata": {
    "slideshow": {
     "slide_type": "skip"
    },
    "tags": []
   },
   "outputs": [],
   "source": [
    "tech_report.append(pn.Row(pn.pane.Markdown(\"## Packages to be installed ##\",sizing_mode='scale_width')))"
   ]
  },
  {
   "cell_type": "code",
   "execution_count": null,
   "id": "eefa390b-c6a5-4616-9c7e-9dcbf902fb87",
   "metadata": {
    "slideshow": {
     "slide_type": "skip"
    },
    "tags": []
   },
   "outputs": [],
   "source": [
    "tech_report.append(pn.Row(pn.pane.Markdown(\"\"\"\n",
    "1. tpot\n",
    "2. auto-sklearn\n",
    "3. scipy\n",
    "\"\"\",sizing_mode='scale_width')))"
   ]
  },
  {
   "cell_type": "code",
   "execution_count": null,
   "id": "18a48318-7c63-4c47-882f-f582a83aa959",
   "metadata": {
    "slideshow": {
     "slide_type": "skip"
    },
    "tags": []
   },
   "outputs": [],
   "source": [
    "tech_report.append(pn.Row(pn.pane.Markdown(\"## Load the libraries ##\",sizing_mode='scale_width')))"
   ]
  },
  {
   "cell_type": "code",
   "execution_count": null,
   "id": "f70260df-d51a-4ebb-b211-54c69482af7f",
   "metadata": {
    "slideshow": {
     "slide_type": "skip"
    },
    "tags": []
   },
   "outputs": [],
   "source": [
    "tech_report.append(pn.Row(pn.pane.Markdown(\"\"\"\n",
    "1. numpy\n",
    "2. pandas\n",
    "3. matplotlib\n",
    "4. hvplot\n",
    "5. tqdm\n",
    "6. sklearn\n",
    "7. autosklearn\n",
    "8. tpot\n",
    "\"\"\"\n",
    ",sizing_mode='scale_width')))"
   ]
  },
  {
   "cell_type": "code",
   "execution_count": null,
   "id": "cbfd6278-c27e-4c91-a3fb-b4e728b7f58d",
   "metadata": {
    "slideshow": {
     "slide_type": "skip"
    },
    "tags": []
   },
   "outputs": [],
   "source": [
    "tech_report.append(pn.Row(pn.pane.Markdown(\"## Load the dataset ##\",sizing_mode='scale_width')))"
   ]
  },
  {
   "cell_type": "code",
   "execution_count": null,
   "id": "6695191d-79f4-4e32-8bfb-6d537d86b44d",
   "metadata": {
    "slideshow": {
     "slide_type": "skip"
    },
    "tags": []
   },
   "outputs": [],
   "source": [
    "tech_report.append(pn.Row(pn.pane.Markdown(\"\"\"\n",
    "```python\n",
    "# location of dataset\n",
    "dataset = 'data/diabetes.csv'\n",
    "\n",
    "# reading the dataset into dataframe\n",
    "df = pd.read_csv(dataset)\n",
    "```\"\"\"\n",
    ",sizing_mode='scale_width')))"
   ]
  },
  {
   "cell_type": "code",
   "execution_count": null,
   "id": "dd48e87a-7022-4a9c-bebd-5d9b97f9bcc5",
   "metadata": {
    "slideshow": {
     "slide_type": "skip"
    },
    "tags": []
   },
   "outputs": [],
   "source": [
    "tech_report.append(pn.Row(pn.pane.Markdown(\"## General Information About the Dataset\", sizing_mode='scale_width')))"
   ]
  },
  {
   "cell_type": "code",
   "execution_count": null,
   "id": "7eace260-4593-4a35-a421-354169a3e0c0",
   "metadata": {
    "slideshow": {
     "slide_type": "skip"
    },
    "tags": []
   },
   "outputs": [],
   "source": [
    "tech_report.append(pn.Row(pn.pane.Markdown(\"Sampling the Data\",sizing_mode='scale_width')))"
   ]
  },
  {
   "cell_type": "code",
   "execution_count": null,
   "id": "e99aad76-13f2-48ff-8bda-0f72e7cb1287",
   "metadata": {
    "slideshow": {
     "slide_type": "skip"
    },
    "tags": []
   },
   "outputs": [],
   "source": [
    "tech_report.append(pn.Row(pn.pane.DataFrame(df.head(), sizing_mode='scale_width', index=False)))"
   ]
  },
  {
   "cell_type": "code",
   "execution_count": null,
   "id": "10d67a69-407a-4aef-8915-96a5d3604325",
   "metadata": {
    "slideshow": {
     "slide_type": "skip"
    },
    "tags": []
   },
   "outputs": [],
   "source": [
    "tech_report.append(pn.Row(pn.pane.Markdown(\"Dataset Information\",sizing_mode='scale_width')))"
   ]
  },
  {
   "cell_type": "code",
   "execution_count": null,
   "id": "9e4f9633-8c46-4adb-b0fb-ce20d2477be5",
   "metadata": {
    "slideshow": {
     "slide_type": "skip"
    },
    "tags": []
   },
   "outputs": [],
   "source": [
    "buffer = io.StringIO()\n",
    "df.info(buf=buffer)\n",
    "s = buffer.getvalue()\n",
    "tech_report.append(pn.Row(pn.pane.Pane(s, sizing_mode='scale_width')))"
   ]
  },
  {
   "cell_type": "code",
   "execution_count": null,
   "id": "be8f6106-4aee-4e98-aaa8-1716854fd08b",
   "metadata": {
    "slideshow": {
     "slide_type": "skip"
    },
    "tags": []
   },
   "outputs": [],
   "source": [
    "tech_report.append(pn.Row(pn.pane.Markdown(\"**Actions Taken for Data Wrangling and Feature Engineering**\",sizing_mode='scale_width')))"
   ]
  },
  {
   "cell_type": "code",
   "execution_count": null,
   "id": "fc2a0109-bfe7-4d81-b7b5-102e43072e3a",
   "metadata": {
    "id": "GuTl1qs9adR2",
    "slideshow": {
     "slide_type": "skip"
    },
    "tags": [
     "\"hide-input\""
    ]
   },
   "outputs": [],
   "source": [
    "num_cols = df.select_dtypes('number').columns.tolist()"
   ]
  },
  {
   "cell_type": "code",
   "execution_count": null,
   "id": "0efdef55-22bc-40f9-a972-616df94cf526",
   "metadata": {
    "slideshow": {
     "slide_type": "skip"
    },
    "tags": [
     "\"hide-input\""
    ]
   },
   "outputs": [],
   "source": [
    "sc = MinMaxScaler()\n",
    "df2 = df.iloc[:,:-1]\n",
    "num_features = num_cols[:-1]\n",
    "df2[num_features] = sc.fit_transform(df2[num_features])"
   ]
  },
  {
   "cell_type": "code",
   "execution_count": null,
   "id": "a548f40f-9abf-49be-ae43-032d16360f13",
   "metadata": {
    "slideshow": {
     "slide_type": "skip"
    },
    "tags": [
     "\"hide-input\""
    ]
   },
   "outputs": [],
   "source": [
    "features = df2.columns\n",
    "target = df.columns[-1]\n",
    "X = df2\n",
    "Y = df[target]\n",
    "sss = StratifiedShuffleSplit(n_splits=1, test_size=.2, random_state=0)\n",
    "train_indecies = list(sss.split(X,y=Y))\n",
    "train_index, test_index = train_indecies[0][0], train_indecies[0][1]\n",
    "X_train, X_test = X.loc[train_index], X.loc[test_index]\n",
    "y_train, y_test = Y.loc[train_index], Y.loc[test_index]"
   ]
  },
  {
   "cell_type": "code",
   "execution_count": null,
   "id": "12f6df39-7ba7-43aa-a81f-52ea1b9ba73d",
   "metadata": {
    "slideshow": {
     "slide_type": "skip"
    },
    "tags": []
   },
   "outputs": [],
   "source": [
    "tech_report.append(pn.Row(pn.pane.Markdown(\"\"\"\n",
    "- Camel-case for column names\n",
    "- Classifying columns as Numerical or Categorical\n",
    "- Features Encoding\n",
    "- Split the data into test and train\n",
    "\"\"\"\n",
    ",sizing_mode='scale_width')))"
   ]
  },
  {
   "cell_type": "code",
   "execution_count": null,
   "id": "8eeca622-ec70-4556-a7ea-4cff9897c77d",
   "metadata": {
    "slideshow": {
     "slide_type": "skip"
    },
    "tags": []
   },
   "outputs": [],
   "source": [
    "tech_report.append(pn.Row(pn.pane.Markdown(\"## Exploratory Data Analysis (EDA)\", sizing_mode='scale_width')))"
   ]
  },
  {
   "cell_type": "code",
   "execution_count": null,
   "id": "a53216e4-8491-4e85-9558-7ba99a527a79",
   "metadata": {
    "slideshow": {
     "slide_type": "skip"
    },
    "tags": []
   },
   "outputs": [],
   "source": [
    "tech_report.append(pn.Row(pn.pane.Markdown(\"Summary Statistics for Numerical columns\",sizing_mode='scale_width')))"
   ]
  },
  {
   "cell_type": "code",
   "execution_count": null,
   "id": "e2c4bca5-8e77-4acf-8894-58351800ca2e",
   "metadata": {
    "executionInfo": {
     "elapsed": 534,
     "status": "ok",
     "timestamp": 1626612557592,
     "user": {
      "displayName": "adel ahmed",
      "photoUrl": "",
      "userId": "10327834719883778444"
     },
     "user_tz": -420
    },
    "id": "xcmiM2KXbO_K",
    "outputId": "25fa76ae-7119-4a10-b3a9-3b1bfcdf098a",
    "slideshow": {
     "slide_type": "skip"
    },
    "tags": [
     "\"hide-input\""
    ]
   },
   "outputs": [],
   "source": [
    "tech_report.append(pn.Row(pn.pane.Pane(df.describe(), sizing_mode='scale_width')))"
   ]
  },
  {
   "cell_type": "code",
   "execution_count": null,
   "id": "212a7c09-44f3-47e4-bfa5-823703652685",
   "metadata": {
    "slideshow": {
     "slide_type": "skip"
    },
    "tags": []
   },
   "outputs": [],
   "source": [
    "tech_report.append(pn.Row(pn.pane.Markdown(\"Visual Exploration of Numerical Columns\",sizing_mode='scale_width')))"
   ]
  },
  {
   "cell_type": "code",
   "execution_count": null,
   "id": "b055f88b-7855-4edb-b1ab-12f8757fe274",
   "metadata": {
    "slideshow": {
     "slide_type": "skip"
    },
    "tags": []
   },
   "outputs": [],
   "source": [
    "tech_report.append(pn.Row(pn.pane.Markdown(\"Distribution of Age for patients\",sizing_mode='scale_width')))"
   ]
  },
  {
   "cell_type": "code",
   "execution_count": null,
   "id": "4603ee45-47ff-4a9c-b5db-03ed63360400",
   "metadata": {
    "executionInfo": {
     "elapsed": 1421,
     "status": "ok",
     "timestamp": 1626612565489,
     "user": {
      "displayName": "adel ahmed",
      "photoUrl": "",
      "userId": "10327834719883778444"
     },
     "user_tz": -420
    },
    "id": "rrcKep3GedeF",
    "outputId": "2924e669-008f-4f03-ed17-eb4ffaf114ad",
    "slideshow": {
     "slide_type": "skip"
    },
    "tags": [
     "\"hide-input\""
    ]
   },
   "outputs": [],
   "source": [
    "tech_report.append(pn.Row(pn.pane.Pane(df['Age'].hist(bins=5), sizing_mode='scale_width')))"
   ]
  },
  {
   "cell_type": "code",
   "execution_count": null,
   "id": "95064b30-402c-4813-b714-0f0981eb99f3",
   "metadata": {
    "slideshow": {
     "slide_type": "skip"
    },
    "tags": []
   },
   "outputs": [],
   "source": [
    "tech_report.append(pn.Row(pn.pane.Markdown(\"Correlation Between Age and BMI\",sizing_mode='scale_width')))"
   ]
  },
  {
   "cell_type": "code",
   "execution_count": null,
   "id": "6e58b6d9-2ae9-468a-bff2-06a2579074df",
   "metadata": {
    "executionInfo": {
     "elapsed": 62,
     "status": "ok",
     "timestamp": 1626612566550,
     "user": {
      "displayName": "adel ahmed",
      "photoUrl": "",
      "userId": "10327834719883778444"
     },
     "user_tz": -420
    },
    "id": "I6PBNC3HrMEr",
    "outputId": "992c5730-588b-4b5b-9439-80caf70167d4",
    "slideshow": {
     "slide_type": "skip"
    },
    "tags": [
     "\"hide-input\""
    ]
   },
   "outputs": [],
   "source": [
    "tech_report.append(pn.Row(pn.pane.Pane(df.hvplot(x='Age', y='BMI', kind='scatter'),sizing_mode='scale_width')))"
   ]
  },
  {
   "cell_type": "code",
   "execution_count": null,
   "id": "7ab727b0-5da7-4c79-959c-abda7ece5f83",
   "metadata": {
    "slideshow": {
     "slide_type": "skip"
    },
    "tags": []
   },
   "outputs": [],
   "source": [
    "tech_report.append(pn.Row(pn.pane.Markdown(\"Correlation Plot of Numerical Features\",sizing_mode='scale_width')))"
   ]
  },
  {
   "cell_type": "code",
   "execution_count": null,
   "id": "8be0f684-e750-491e-a02b-8734bf83280e",
   "metadata": {
    "slideshow": {
     "slide_type": "skip"
    },
    "tags": []
   },
   "outputs": [],
   "source": [
    "fig = plt.Figure()\n",
    "ax = fig.add_subplot(111)\n",
    "corr = df.corr()\n",
    "mask = np.triu(corr)\n",
    "s = sns.heatmap(corr, ax=ax, mask=mask,cmap='Wistia', cbar=False,center=0, square=True, linewidths=.3,  annot= True,annot_kws={\"fontsize\":5})\n",
    "s.set_yticklabels(s.get_yticklabels(), fontsize=5)\n",
    "s.set_xticklabels(s.get_xticklabels(), rotation=90, fontsize=5)\n",
    "tech_report.append(pn.Row(pn.pane.Matplotlib(fig,sizing_mode='scale_width')))"
   ]
  },
  {
   "cell_type": "code",
   "execution_count": null,
   "id": "2ec0f3eb-c646-4c08-bb09-d3dde9132db7",
   "metadata": {
    "slideshow": {
     "slide_type": "skip"
    },
    "tags": []
   },
   "outputs": [],
   "source": [
    "tech_report.append(pn.Row(pn.pane.Markdown(\"Visual Exploration of Categorical Columns\",sizing_mode='scale_width')))"
   ]
  },
  {
   "cell_type": "code",
   "execution_count": null,
   "id": "e1f255ed-6b33-4e39-845c-dff73f23cc36",
   "metadata": {
    "slideshow": {
     "slide_type": "skip"
    },
    "tags": []
   },
   "outputs": [],
   "source": [
    "# pn.pane.Pane(df.hvplot(x='Age', y='BMI', kind='scatter')).servable()"
   ]
  },
  {
   "cell_type": "code",
   "execution_count": null,
   "id": "9c72aa83-2025-43be-a33b-7dd56c4b392f",
   "metadata": {
    "slideshow": {
     "slide_type": "skip"
    },
    "tags": []
   },
   "outputs": [],
   "source": [
    "tech_report.append(pn.Row(pn.pane.Markdown(\"Feature Importance\",sizing_mode='scale_width')))"
   ]
  },
  {
   "cell_type": "code",
   "execution_count": null,
   "id": "d6d37319-baa8-423e-b31a-d8acc4b7649a",
   "metadata": {
    "slideshow": {
     "slide_type": "skip"
    },
    "tags": [
     "\"hide-input\""
    ]
   },
   "outputs": [],
   "source": [
    "fe = ExtraTreesRegressor(n_estimators=10)\n",
    "fe.fit(X, Y)\n",
    "fedf = pd.DataFrame({'Feature': features, 'Feature_importance %': fe.feature_importances_ * 100})\n",
    "fedf = fedf.sort_values(by=['Feature_importance %'], ascending=False)\n",
    "tech_report.append(pn.Row(pn.pane.Pane(fedf.hvplot.bar(x='Feature', y='Feature_importance %',rot=20),sizing_mode='scale_width')))"
   ]
  },
  {
   "cell_type": "code",
   "execution_count": null,
   "id": "6034b13f-7655-434a-bdfd-ed15ae1507b5",
   "metadata": {
    "slideshow": {
     "slide_type": "skip"
    },
    "tags": []
   },
   "outputs": [],
   "source": [
    "tech_report.append(pn.Row(pn.pane.Markdown(\"## Modeling ##\",sizing_mode='scale_width')))"
   ]
  },
  {
   "cell_type": "code",
   "execution_count": null,
   "id": "2c1280ee-8b9b-4184-8f69-186a445caa72",
   "metadata": {
    "id": "yV8VVAyqrexV",
    "slideshow": {
     "slide_type": "skip"
    },
    "tags": []
   },
   "outputs": [],
   "source": [
    "tech_report.append(pn.Row(pn.pane.Markdown(\"\"\"Modelling  Task Details\n",
    "\n",
    "| No. | Description | Category | Type |\n",
    "| :-- | :-- | :-- | :-- |\n",
    "|1 | Data Characteristics | Structured | Categorical |\n",
    "|2 | Machine Learning Type | Classification |  Binary-Class |\n",
    "|3 | Relevant ML and DL models | Machine Learning | Multiple Algorithm |\n",
    "|4 | Technical Metrics | Accuracy | Percentage (the higher the better) |\n",
    "|5 | Hyperparameter Optimization Techniques | Grid Search | Specified Dictionary |\n",
    "|6 | Computation Method | On-primse | CPU |\n",
    "|7 | Additional Features | Ensemble Modeling | Voting and Stacking |\n",
    "\"\"\", sizing_mode='scale_width')))"
   ]
  },
  {
   "cell_type": "code",
   "execution_count": null,
   "id": "c7db63b6-2931-4979-9d27-16caf7bd9b86",
   "metadata": {
    "slideshow": {
     "slide_type": "skip"
    },
    "tags": []
   },
   "outputs": [],
   "source": [
    "tech_report.append(pn.Row(pn.pane.Markdown(\"\"\"\n",
    "We will be using all the classifiers in the Sikit-Learn library and the comparing them according to accuracy\n",
    "\"\"\", sizing_mode='scale_width')))"
   ]
  },
  {
   "cell_type": "code",
   "execution_count": null,
   "id": "5a2c606e-4b60-4563-8f37-1872a16f98a5",
   "metadata": {
    "slideshow": {
     "slide_type": "skip"
    },
    "tags": []
   },
   "outputs": [],
   "source": [
    "estimators = all_estimators(type_filter='classifier')\n",
    "# sklearn.utils.all_estimators(type_filter='classifier', estimators = all_clfs)\n",
    "\n",
    "all_clfs = []\n",
    "for name, ClassifierClass in estimators:\n",
    "    try:\n",
    "        if name != 'CategoricalNB' or name != 'MLPClassifier':\n",
    "            clf = ClassifierClass()\n",
    "            all_clfs.append((name, clf))\n",
    "    except Exception as e:\n",
    "        pass\n",
    "\n",
    "voting_model = VotingClassifier(estimators=all_clfs, n_jobs=2)\n",
    "\n",
    "stack_model = StackingClassifier(estimators=all_clfs, final_estimator=LogisticRegression(), cv=3, n_jobs=2)"
   ]
  },
  {
   "cell_type": "code",
   "execution_count": null,
   "id": "01749da4-408a-4ae7-8499-003c532f060d",
   "metadata": {
    "slideshow": {
     "slide_type": "skip"
    },
    "tags": [
     "\"hide-input\""
    ]
   },
   "outputs": [],
   "source": [
    "# Compare Algorithms\n",
    "results_1_df = pd.read_csv('data/classification_results_1.csv')\n",
    "results_1_df = results_1_df.sort_values(by=['Accuracy'], ascending=True)\n",
    "tech_report.append(pn.Row(pn.pane.Pane(results_1_df.hvplot.bar(x='Classifier', y='Accuracy', invert=True, height=500))))"
   ]
  },
  {
   "cell_type": "code",
   "execution_count": null,
   "id": "e11d2ed4-8dba-4451-9d3a-bc9c2fc6d868",
   "metadata": {
    "id": "ZrBaOOwnuvRI",
    "slideshow": {
     "slide_type": "skip"
    },
    "tags": []
   },
   "outputs": [],
   "source": [
    "tech_report.append(pn.Row(pn.pane.Markdown(\"**Recommendation of final model**\")))"
   ]
  },
  {
   "cell_type": "code",
   "execution_count": null,
   "id": "7bbb2f15-733f-48a5-bbf7-15ea55f191e8",
   "metadata": {
    "slideshow": {
     "slide_type": "skip"
    },
    "tags": []
   },
   "outputs": [],
   "source": [
    "tech_report.append(pn.Row(pn.pane.Markdown(\"\"\"\n",
    "We will be using all the classifiers in the Sikit-Learn library and the comparing them according to accuracy\n",
    "\"\"\", sizing_mode='scale_width')))"
   ]
  },
  {
   "cell_type": "code",
   "execution_count": null,
   "id": "35bd7c82-0d57-4889-a1d4-57ab16d0a0b7",
   "metadata": {
    "slideshow": {
     "slide_type": "skip"
    },
    "tags": [
     "\"hide-input\""
    ]
   },
   "outputs": [],
   "source": [
    "# voting_model.fit(X_train, y_train)\n",
    "# y_test_pred = voting_model.predict(X_test)\n",
    "# test_accuracy = accuracy_score(y_test, y_test_pred)\n",
    "tech_report.append(pn.Row(pn.pane.Markdown(f\"Voting Classifier predictions accuracy: {results_1_df['Accuracy'].max() * 100 :.2f}%\",sizing_mode='scale_width')))"
   ]
  },
  {
   "cell_type": "code",
   "execution_count": null,
   "id": "05a4c4bf-45b5-4c20-88ca-8d38e5e2314e",
   "metadata": {
    "slideshow": {
     "slide_type": "skip"
    },
    "tags": []
   },
   "outputs": [],
   "source": [
    "tech_report.append(pn.Row(pn.pane.Markdown(\"Confusion Matrix Plot\",sizing_mode='scale_width')))"
   ]
  },
  {
   "cell_type": "code",
   "execution_count": null,
   "id": "42345bc6-4f2a-4420-80fa-c215a4ca6713",
   "metadata": {
    "slideshow": {
     "slide_type": "skip"
    },
    "tags": []
   },
   "outputs": [],
   "source": [
    "voting_model.fit(X_train, y_train)\n",
    "# with open('voting_model.pkl', 'wb') as model_file:\n",
    "#     pickle.dump(voting_model, model_file)\n",
    "y_test_pred = voting_model.predict(X_test)\n",
    "array = confusion_matrix(y_test, y_test_pred)\n",
    "df_cm = pd.DataFrame(array, index=['no_diabeties', 'with_diabeties'],\n",
    "                     columns=['no_diabeties', 'with_diabeties'])\n",
    "# df_cm.to_csv('confusion_matrix.csv', index=False)\n",
    "hv.extension('matplotlib')\n",
    "tech_report.append(pn.Row(hv.HeatMap((df_cm.columns, df_cm.index, df_cm.values)).opts(invert_xaxis=True, show_values=True)))"
   ]
  },
  {
   "cell_type": "code",
   "execution_count": null,
   "id": "c1844b58-61ab-459e-806e-6664e535004d",
   "metadata": {
    "slideshow": {
     "slide_type": "skip"
    },
    "tags": []
   },
   "outputs": [],
   "source": [
    "hv.extension('bokeh')\n",
    "tech_report.append(pn.Row(pn.pane.Markdown(\"**Summary of Key Findings and Insights.**\",sizing_mode='scale_width')))"
   ]
  },
  {
   "cell_type": "code",
   "execution_count": null,
   "id": "0986c752-9244-47fb-8afc-4ffc0c93f8dc",
   "metadata": {
    "slideshow": {
     "slide_type": "skip"
    },
    "tags": []
   },
   "outputs": [],
   "source": [
    "tech_report.append(pn.Row(pn.pane.Markdown(\"\"\"\n",
    "1. Glucose level in the blood is main factor for the diagnosis of diabities\n",
    "2. The Voting Classifier gave the best results for the training set\n",
    "3. 21% of the pateinets got misclassified by the Voting Classifier, better Classifier should be seeked\n",
    "\"\"\", sizing_mode='scale_width')))"
   ]
  },
  {
   "cell_type": "code",
   "execution_count": null,
   "id": "9c608cc4-52bc-4ba6-9009-9f10c5852b32",
   "metadata": {
    "slideshow": {
     "slide_type": "skip"
    },
    "tags": []
   },
   "outputs": [],
   "source": [
    "tech_report.append(pn.Row(pn.pane.Markdown(\"## Recommendations ##\", sizing_mode='scale_width')))"
   ]
  },
  {
   "cell_type": "code",
   "execution_count": null,
   "id": "f50b41ef-3cde-480f-a789-02f553cb756d",
   "metadata": {
    "slideshow": {
     "slide_type": "skip"
    },
    "tags": []
   },
   "outputs": [],
   "source": [
    "tech_report.append(pn.Row(pn.pane.Markdown(\"\"\"\n",
    "Using automated machine learning yield better results than manual or gridseached models\n",
    "\n",
    "for this dataset will use auto-sklearn and TPOT and compared thier results to results obtained before\n",
    "\"\"\",sizing_mode='scale_width')))"
   ]
  },
  {
   "cell_type": "code",
   "execution_count": null,
   "id": "299f0438-7851-453c-9f72-43406d5a9a63",
   "metadata": {
    "slideshow": {
     "slide_type": "skip"
    },
    "tags": [
     "\"hide-input\""
    ]
   },
   "outputs": [],
   "source": [
    "results_2_df = pd.read_csv('data/classification_results_2.csv')\n",
    "results_2_df = results_2_df.sort_values(by=['Accuracy'], ascending=True)\n",
    "tech_report.append(pn.Row(pn.pane.Pane(results_2_df.hvplot.bar(x='Classifier', y='Accuracy', invert=True, height=500))))"
   ]
  },
  {
   "cell_type": "code",
   "execution_count": null,
   "id": "2ae06c05-dba5-4f4b-b448-53463cbb72ad",
   "metadata": {
    "slideshow": {
     "slide_type": "skip"
    },
    "tags": []
   },
   "outputs": [],
   "source": [
    "tech_report.append(pn.Row(pn.pane.Markdown(f\"AutoSklearn predictions accuracy: {results_2_df['Accuracy'].max() * 100 :.2f}%\",sizing_mode='scale_width')))"
   ]
  },
  {
   "cell_type": "code",
   "execution_count": null,
   "id": "c7f006fb-d6b5-44b2-9b87-9bfe03242b71",
   "metadata": {
    "slideshow": {
     "slide_type": "skip"
    },
    "tags": []
   },
   "outputs": [],
   "source": [
    "tech_report.append(pn.Row(pn.pane.Markdown(\"\"\"\n",
    "The default configuration for automated machine learning give better results than the model that manually selected and modified\n",
    "\"\"\",sizing_mode='scale_width')))"
   ]
  },
  {
   "cell_type": "code",
   "execution_count": null,
   "id": "db9570ae-b896-4c9a-9755-aed37f798bd5",
   "metadata": {
    "slideshow": {
     "slide_type": "skip"
    },
    "tags": []
   },
   "outputs": [],
   "source": [
    "html = \"<iframe src='assets/Diabeties_Analysis.slides.html', width=1330, height=530></iframe>\"\n",
    "html_pane = pn.pane.HTML(html, sizing_mode='scale_width')"
   ]
  },
  {
   "cell_type": "code",
   "execution_count": null,
   "id": "b2e7de7a-b3a3-4390-9f0c-21fed333069a",
   "metadata": {
    "slideshow": {
     "slide_type": "skip"
    },
    "tags": []
   },
   "outputs": [],
   "source": [
    "data_files = pn.Column()"
   ]
  },
  {
   "cell_type": "code",
   "execution_count": null,
   "id": "6a46f98a-94ba-4b9f-92c5-39606a5281b6",
   "metadata": {
    "slideshow": {
     "slide_type": "skip"
    },
    "tags": []
   },
   "outputs": [],
   "source": [
    "# def get_csv():\n",
    "#     output = BytesIO()\n",
    "#     output.name = \"data.csv\"\n",
    "#     data.to_csv(output)\n",
    "#     output.seek(0)\n",
    "#     return output\n",
    "# file_download_csv_zip = pn.widgets.FileDownload(filename=\"data.csv\", callback=get_csv, button_type=\"primary\")\n",
    "data_files.append(pn.widgets.FileDownload(file='data/diabetes.csv', filename=\"Report Data - CSV\"))\n",
    "data_files.append(pn.widgets.FileDownload(file='data/classification_results_1.csv', filename='Trained Models Results - CSV'))\n",
    "data_files.append(pn.widgets.FileDownload(file='data/voting_model.pkl', filename='Winning Model(pickle)'))\n",
    "data_files.append(pn.widgets.FileDownload(file='data/confusion_matrix.csv', filename='Winning Model Accuracy - CSV'))"
   ]
  },
  {
   "cell_type": "code",
   "execution_count": null,
   "id": "e1f98a14-cb3f-4674-8e4b-531ff33633ea",
   "metadata": {
    "slideshow": {
     "slide_type": "skip"
    },
    "tags": []
   },
   "outputs": [],
   "source": [
    "layout = pn.Tabs(('Summary Report', html_pane), ('Dashboard', 'TBD'),\n",
    "                 ('Technical Report', tech_report), ('Code', 'TBD'),\n",
    "                 ('Data', data_files), sizing_mode='scale_width')\n",
    "layout.servable()"
   ]
  }
 ],
 "metadata": {
  "kernelspec": {
   "display_name": "Python 3 (ipykernel)",
   "language": "python",
   "name": "python3"
  },
  "language_info": {
   "codemirror_mode": {
    "name": "ipython",
    "version": 3
   },
   "file_extension": ".py",
   "mimetype": "text/x-python",
   "name": "python",
   "nbconvert_exporter": "python",
   "pygments_lexer": "ipython3",
   "version": "3.9.7"
  }
 },
 "nbformat": 4,
 "nbformat_minor": 5
}
